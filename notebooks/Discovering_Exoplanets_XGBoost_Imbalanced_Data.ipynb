{
  "nbformat": 4,
  "nbformat_minor": 0,
  "metadata": {
    "colab": {
      "provenance": []
    },
    "kernelspec": {
      "name": "python3",
      "display_name": "Python 3"
    },
    "accelerator": "GPU"
  },
  "cells": [
    {
      "cell_type": "markdown",
      "metadata": {
        "id": "UMCUnxTb8r_J"
      },
      "source": [
        "# Load Exoplanet Data, n Rows"
      ]
    },
    {
      "cell_type": "code",
      "metadata": {
        "colab": {
          "base_uri": "https://localhost:8080/",
          "height": 317
        },
        "id": "wPFMQYtH8BXL",
        "outputId": "ae6aa74b-487d-47c3-f3d6-e7b99f4ed4f7"
      },
      "source": [
        "import pandas as pd\n",
        "url = 'https://media.githubusercontent.com/media/PacktPublishing/Hands-On-Gradient-Boosting-with-XGBoost-and-Scikit-learn/master/Chapter04/exoplanets.csv'\n",
        "df = pd.read_csv(url, nrows=500)\n",
        "\n",
        "y = df['LABEL']\n",
        "X = df.iloc[:, 1:]\n",
        "\n",
        "print(df.shape)\n",
        "df.head()"
      ],
      "execution_count": null,
      "outputs": [
        {
          "output_type": "stream",
          "name": "stdout",
          "text": [
            "(500, 3198)\n"
          ]
        },
        {
          "output_type": "execute_result",
          "data": {
            "text/plain": [
              "   LABEL   FLUX.1   FLUX.2   FLUX.3   FLUX.4   FLUX.5   FLUX.6  FLUX.7  \\\n",
              "0      2    93.85    83.81    20.10   -26.98   -39.56  -124.71 -135.18   \n",
              "1      2   -38.88   -33.83   -58.54   -40.09   -79.31   -72.81  -86.55   \n",
              "2      2   532.64   535.92   513.73   496.92   456.45   466.00  464.50   \n",
              "3      2   326.52   347.39   302.35   298.13   317.74   312.70  322.33   \n",
              "4      2 -1107.21 -1112.59 -1118.95 -1095.10 -1057.55 -1034.48 -998.34   \n",
              "\n",
              "    FLUX.8  FLUX.9  ...  FLUX.3188  FLUX.3189  FLUX.3190  FLUX.3191  \\\n",
              "0   -96.27  -79.89  ...     -78.07    -102.15    -102.15      25.13   \n",
              "1   -85.33  -83.97  ...      -3.28     -32.21     -32.21     -24.89   \n",
              "2   486.39  436.56  ...     -71.69      13.31      13.31     -29.89   \n",
              "3   311.31  312.42  ...       5.71      -3.73      -3.73      30.05   \n",
              "4 -1022.71 -989.57  ...    -594.37    -401.66    -401.66    -357.24   \n",
              "\n",
              "   FLUX.3192  FLUX.3193  FLUX.3194  FLUX.3195  FLUX.3196  FLUX.3197  \n",
              "0      48.57      92.54      39.32      61.42       5.08     -39.54  \n",
              "1      -4.86       0.76     -11.70       6.46      16.00      19.93  \n",
              "2     -20.88       5.06     -11.80     -28.91     -70.02     -96.67  \n",
              "3      20.03     -12.67      -8.77     -17.31     -17.35      13.98  \n",
              "4    -443.76    -438.54    -399.71    -384.65    -411.79    -510.54  \n",
              "\n",
              "[5 rows x 3198 columns]"
            ],
            "text/html": [
              "\n",
              "  <div id=\"df-e2b2cf0d-037c-4c4c-bc20-c8966450634a\">\n",
              "    <div class=\"colab-df-container\">\n",
              "      <div>\n",
              "<style scoped>\n",
              "    .dataframe tbody tr th:only-of-type {\n",
              "        vertical-align: middle;\n",
              "    }\n",
              "\n",
              "    .dataframe tbody tr th {\n",
              "        vertical-align: top;\n",
              "    }\n",
              "\n",
              "    .dataframe thead th {\n",
              "        text-align: right;\n",
              "    }\n",
              "</style>\n",
              "<table border=\"1\" class=\"dataframe\">\n",
              "  <thead>\n",
              "    <tr style=\"text-align: right;\">\n",
              "      <th></th>\n",
              "      <th>LABEL</th>\n",
              "      <th>FLUX.1</th>\n",
              "      <th>FLUX.2</th>\n",
              "      <th>FLUX.3</th>\n",
              "      <th>FLUX.4</th>\n",
              "      <th>FLUX.5</th>\n",
              "      <th>FLUX.6</th>\n",
              "      <th>FLUX.7</th>\n",
              "      <th>FLUX.8</th>\n",
              "      <th>FLUX.9</th>\n",
              "      <th>...</th>\n",
              "      <th>FLUX.3188</th>\n",
              "      <th>FLUX.3189</th>\n",
              "      <th>FLUX.3190</th>\n",
              "      <th>FLUX.3191</th>\n",
              "      <th>FLUX.3192</th>\n",
              "      <th>FLUX.3193</th>\n",
              "      <th>FLUX.3194</th>\n",
              "      <th>FLUX.3195</th>\n",
              "      <th>FLUX.3196</th>\n",
              "      <th>FLUX.3197</th>\n",
              "    </tr>\n",
              "  </thead>\n",
              "  <tbody>\n",
              "    <tr>\n",
              "      <th>0</th>\n",
              "      <td>2</td>\n",
              "      <td>93.85</td>\n",
              "      <td>83.81</td>\n",
              "      <td>20.10</td>\n",
              "      <td>-26.98</td>\n",
              "      <td>-39.56</td>\n",
              "      <td>-124.71</td>\n",
              "      <td>-135.18</td>\n",
              "      <td>-96.27</td>\n",
              "      <td>-79.89</td>\n",
              "      <td>...</td>\n",
              "      <td>-78.07</td>\n",
              "      <td>-102.15</td>\n",
              "      <td>-102.15</td>\n",
              "      <td>25.13</td>\n",
              "      <td>48.57</td>\n",
              "      <td>92.54</td>\n",
              "      <td>39.32</td>\n",
              "      <td>61.42</td>\n",
              "      <td>5.08</td>\n",
              "      <td>-39.54</td>\n",
              "    </tr>\n",
              "    <tr>\n",
              "      <th>1</th>\n",
              "      <td>2</td>\n",
              "      <td>-38.88</td>\n",
              "      <td>-33.83</td>\n",
              "      <td>-58.54</td>\n",
              "      <td>-40.09</td>\n",
              "      <td>-79.31</td>\n",
              "      <td>-72.81</td>\n",
              "      <td>-86.55</td>\n",
              "      <td>-85.33</td>\n",
              "      <td>-83.97</td>\n",
              "      <td>...</td>\n",
              "      <td>-3.28</td>\n",
              "      <td>-32.21</td>\n",
              "      <td>-32.21</td>\n",
              "      <td>-24.89</td>\n",
              "      <td>-4.86</td>\n",
              "      <td>0.76</td>\n",
              "      <td>-11.70</td>\n",
              "      <td>6.46</td>\n",
              "      <td>16.00</td>\n",
              "      <td>19.93</td>\n",
              "    </tr>\n",
              "    <tr>\n",
              "      <th>2</th>\n",
              "      <td>2</td>\n",
              "      <td>532.64</td>\n",
              "      <td>535.92</td>\n",
              "      <td>513.73</td>\n",
              "      <td>496.92</td>\n",
              "      <td>456.45</td>\n",
              "      <td>466.00</td>\n",
              "      <td>464.50</td>\n",
              "      <td>486.39</td>\n",
              "      <td>436.56</td>\n",
              "      <td>...</td>\n",
              "      <td>-71.69</td>\n",
              "      <td>13.31</td>\n",
              "      <td>13.31</td>\n",
              "      <td>-29.89</td>\n",
              "      <td>-20.88</td>\n",
              "      <td>5.06</td>\n",
              "      <td>-11.80</td>\n",
              "      <td>-28.91</td>\n",
              "      <td>-70.02</td>\n",
              "      <td>-96.67</td>\n",
              "    </tr>\n",
              "    <tr>\n",
              "      <th>3</th>\n",
              "      <td>2</td>\n",
              "      <td>326.52</td>\n",
              "      <td>347.39</td>\n",
              "      <td>302.35</td>\n",
              "      <td>298.13</td>\n",
              "      <td>317.74</td>\n",
              "      <td>312.70</td>\n",
              "      <td>322.33</td>\n",
              "      <td>311.31</td>\n",
              "      <td>312.42</td>\n",
              "      <td>...</td>\n",
              "      <td>5.71</td>\n",
              "      <td>-3.73</td>\n",
              "      <td>-3.73</td>\n",
              "      <td>30.05</td>\n",
              "      <td>20.03</td>\n",
              "      <td>-12.67</td>\n",
              "      <td>-8.77</td>\n",
              "      <td>-17.31</td>\n",
              "      <td>-17.35</td>\n",
              "      <td>13.98</td>\n",
              "    </tr>\n",
              "    <tr>\n",
              "      <th>4</th>\n",
              "      <td>2</td>\n",
              "      <td>-1107.21</td>\n",
              "      <td>-1112.59</td>\n",
              "      <td>-1118.95</td>\n",
              "      <td>-1095.10</td>\n",
              "      <td>-1057.55</td>\n",
              "      <td>-1034.48</td>\n",
              "      <td>-998.34</td>\n",
              "      <td>-1022.71</td>\n",
              "      <td>-989.57</td>\n",
              "      <td>...</td>\n",
              "      <td>-594.37</td>\n",
              "      <td>-401.66</td>\n",
              "      <td>-401.66</td>\n",
              "      <td>-357.24</td>\n",
              "      <td>-443.76</td>\n",
              "      <td>-438.54</td>\n",
              "      <td>-399.71</td>\n",
              "      <td>-384.65</td>\n",
              "      <td>-411.79</td>\n",
              "      <td>-510.54</td>\n",
              "    </tr>\n",
              "  </tbody>\n",
              "</table>\n",
              "<p>5 rows × 3198 columns</p>\n",
              "</div>\n",
              "      <button class=\"colab-df-convert\" onclick=\"convertToInteractive('df-e2b2cf0d-037c-4c4c-bc20-c8966450634a')\"\n",
              "              title=\"Convert this dataframe to an interactive table.\"\n",
              "              style=\"display:none;\">\n",
              "        \n",
              "  <svg xmlns=\"http://www.w3.org/2000/svg\" height=\"24px\"viewBox=\"0 0 24 24\"\n",
              "       width=\"24px\">\n",
              "    <path d=\"M0 0h24v24H0V0z\" fill=\"none\"/>\n",
              "    <path d=\"M18.56 5.44l.94 2.06.94-2.06 2.06-.94-2.06-.94-.94-2.06-.94 2.06-2.06.94zm-11 1L8.5 8.5l.94-2.06 2.06-.94-2.06-.94L8.5 2.5l-.94 2.06-2.06.94zm10 10l.94 2.06.94-2.06 2.06-.94-2.06-.94-.94-2.06-.94 2.06-2.06.94z\"/><path d=\"M17.41 7.96l-1.37-1.37c-.4-.4-.92-.59-1.43-.59-.52 0-1.04.2-1.43.59L10.3 9.45l-7.72 7.72c-.78.78-.78 2.05 0 2.83L4 21.41c.39.39.9.59 1.41.59.51 0 1.02-.2 1.41-.59l7.78-7.78 2.81-2.81c.8-.78.8-2.07 0-2.86zM5.41 20L4 18.59l7.72-7.72 1.47 1.35L5.41 20z\"/>\n",
              "  </svg>\n",
              "      </button>\n",
              "      \n",
              "  <style>\n",
              "    .colab-df-container {\n",
              "      display:flex;\n",
              "      flex-wrap:wrap;\n",
              "      gap: 12px;\n",
              "    }\n",
              "\n",
              "    .colab-df-convert {\n",
              "      background-color: #E8F0FE;\n",
              "      border: none;\n",
              "      border-radius: 50%;\n",
              "      cursor: pointer;\n",
              "      display: none;\n",
              "      fill: #1967D2;\n",
              "      height: 32px;\n",
              "      padding: 0 0 0 0;\n",
              "      width: 32px;\n",
              "    }\n",
              "\n",
              "    .colab-df-convert:hover {\n",
              "      background-color: #E2EBFA;\n",
              "      box-shadow: 0px 1px 2px rgba(60, 64, 67, 0.3), 0px 1px 3px 1px rgba(60, 64, 67, 0.15);\n",
              "      fill: #174EA6;\n",
              "    }\n",
              "\n",
              "    [theme=dark] .colab-df-convert {\n",
              "      background-color: #3B4455;\n",
              "      fill: #D2E3FC;\n",
              "    }\n",
              "\n",
              "    [theme=dark] .colab-df-convert:hover {\n",
              "      background-color: #434B5C;\n",
              "      box-shadow: 0px 1px 3px 1px rgba(0, 0, 0, 0.15);\n",
              "      filter: drop-shadow(0px 1px 2px rgba(0, 0, 0, 0.3));\n",
              "      fill: #FFFFFF;\n",
              "    }\n",
              "  </style>\n",
              "\n",
              "      <script>\n",
              "        const buttonEl =\n",
              "          document.querySelector('#df-e2b2cf0d-037c-4c4c-bc20-c8966450634a button.colab-df-convert');\n",
              "        buttonEl.style.display =\n",
              "          google.colab.kernel.accessAllowed ? 'block' : 'none';\n",
              "\n",
              "        async function convertToInteractive(key) {\n",
              "          const element = document.querySelector('#df-e2b2cf0d-037c-4c4c-bc20-c8966450634a');\n",
              "          const dataTable =\n",
              "            await google.colab.kernel.invokeFunction('convertToInteractive',\n",
              "                                                     [key], {});\n",
              "          if (!dataTable) return;\n",
              "\n",
              "          const docLinkHtml = 'Like what you see? Visit the ' +\n",
              "            '<a target=\"_blank\" href=https://colab.research.google.com/notebooks/data_table.ipynb>data table notebook</a>'\n",
              "            + ' to learn more about interactive tables.';\n",
              "          element.innerHTML = '';\n",
              "          dataTable['output_type'] = 'display_data';\n",
              "          await google.colab.output.renderOutput(dataTable, element);\n",
              "          const docLink = document.createElement('div');\n",
              "          docLink.innerHTML = docLinkHtml;\n",
              "          element.appendChild(docLink);\n",
              "        }\n",
              "      </script>\n",
              "    </div>\n",
              "  </div>\n",
              "  "
            ]
          },
          "metadata": {},
          "execution_count": 1
        }
      ]
    },
    {
      "cell_type": "markdown",
      "metadata": {
        "id": "gkIaztvv8xQJ"
      },
      "source": [
        "# Create Light Plot"
      ]
    },
    {
      "cell_type": "code",
      "metadata": {
        "id": "idAyKuvC6LXF"
      },
      "source": [
        "import matplotlib.pyplot as plt\n",
        "import numpy as np\n",
        "import seaborn as sns\n",
        "sns.set()\n",
        "\n",
        "def light_plot(index):\n",
        "    y_vals = X.iloc[index]\n",
        "    x_vals = np.arange(len(y_vals))\n",
        "    plt.figure(figsize=(15,8))\n",
        "    plt.xlabel('Number of Observations')\n",
        "    plt.ylabel('Light Flux')\n",
        "    plt.title('Light Plot ' + str(index), size=15)\n",
        "    plt.plot(x_vals, y_vals)\n",
        "    plt.show()"
      ],
      "execution_count": null,
      "outputs": []
    },
    {
      "cell_type": "code",
      "metadata": {
        "colab": {
          "base_uri": "https://localhost:8080/",
          "height": 471
        },
        "id": "XnUDZCDSfE5T",
        "outputId": "5717f656-d27d-49f8-d99e-ddefa73c9aca"
      },
      "source": [
        "light_plot(1)"
      ],
      "execution_count": null,
      "outputs": [
        {
          "output_type": "display_data",
          "data": {
            "image/png": "[encoded data removed]",
            "text/plain": [
              "<Figure size 1080x576 with 1 Axes>"
            ]
          },
          "metadata": {}
        }
      ]
    },
    {
      "cell_type": "code",
      "metadata": {
        "id": "BT5E2wunf8g9"
      },
      "source": [
        "from xgboost import XGBClassifier\n",
        "from sklearn.model_selection import train_test_split\n",
        "from sklearn.metrics import accuracy_score, precision_score"
      ],
      "execution_count": null,
      "outputs": []
    },
    {
      "cell_type": "code",
      "metadata": {
        "id": "LFMcsy75gVq9"
      },
      "source": [
        "# split data - stratify y to ensure same percentage of exoplanets\n",
        "X_train, X_test, y_train, y_test = train_test_split(X, y, stratify=y)"
      ],
      "execution_count": null,
      "outputs": []
    },
    {
      "cell_type": "code",
      "metadata": {
        "colab": {
          "base_uri": "https://localhost:8080/"
        },
        "id": "Y33WSNz9gmUu",
        "outputId": "fbb70639-838a-47a7-cad2-5412019f42c9"
      },
      "source": [
        "y_train.value_counts()"
      ],
      "execution_count": null,
      "outputs": [
        {
          "output_type": "execute_result",
          "data": {
            "text/plain": [
              "1    159\n",
              "2     28\n",
              "Name: LABEL, dtype: int64"
            ]
          },
          "metadata": {},
          "execution_count": 14
        }
      ]
    },
    {
      "cell_type": "code",
      "metadata": {
        "colab": {
          "base_uri": "https://localhost:8080/"
        },
        "id": "KhReVPUIgwLp",
        "outputId": "acccfe4b-8750-4443-e631-a69f19d1ea01"
      },
      "source": [
        "y_test.value_counts()"
      ],
      "execution_count": null,
      "outputs": [
        {
          "output_type": "execute_result",
          "data": {
            "text/plain": [
              "1    54\n",
              "2     9\n",
              "Name: LABEL, dtype: int64"
            ]
          },
          "metadata": {},
          "execution_count": 15
        }
      ]
    },
    {
      "cell_type": "code",
      "metadata": {
        "colab": {
          "base_uri": "https://localhost:8080/"
        },
        "id": "q05AT726g0Ak",
        "outputId": "33c1fd73-a358-420e-b383-76a12868153c"
      },
      "source": [
        "# Build XGBoost model - with accuracy score\n",
        "model = XGBClassifier()\n",
        "model.fit(X_train, y_train)\n",
        "y_pred = model.predict(X_test)\n",
        "accuracy_score(y_test, y_pred)"
      ],
      "execution_count": null,
      "outputs": [
        {
          "output_type": "execute_result",
          "data": {
            "text/plain": [
              "0.873015873015873"
            ]
          },
          "metadata": {},
          "execution_count": 16
        }
      ]
    },
    {
      "cell_type": "code",
      "metadata": {
        "colab": {
          "base_uri": "https://localhost:8080/"
        },
        "id": "khsQzoiPhvMG",
        "outputId": "920671ed-86ac-4930-f34e-885c3cad8bd0"
      },
      "source": [
        "9/250"
      ],
      "execution_count": null,
      "outputs": [
        {
          "output_type": "execute_result",
          "data": {
            "text/plain": [
              "0.036"
            ]
          },
          "metadata": {},
          "execution_count": 17
        }
      ]
    },
    {
      "cell_type": "code",
      "metadata": {
        "colab": {
          "base_uri": "https://localhost:8080/"
        },
        "id": "CQRKYQc2h6MT",
        "outputId": "6accb81b-0440-448c-98d1-8e12a2a64355"
      },
      "source": [
        "(250-9)/250"
      ],
      "execution_count": null,
      "outputs": [
        {
          "output_type": "execute_result",
          "data": {
            "text/plain": [
              "0.964"
            ]
          },
          "metadata": {},
          "execution_count": 18
        }
      ]
    },
    {
      "cell_type": "code",
      "metadata": {
        "colab": {
          "base_uri": "https://localhost:8080/"
        },
        "id": "03AaTNZUiCbK",
        "outputId": "a562ab5b-d854-4dc2-fe06-24a84fbf4b5f"
      },
      "source": [
        "from sklearn.metrics import confusion_matrix, classification_report\n",
        "confusion_matrix(y_test, y_pred)"
      ],
      "execution_count": null,
      "outputs": [
        {
          "output_type": "execute_result",
          "data": {
            "text/plain": [
              "array([[54,  0],\n",
              "       [ 8,  1]])"
            ]
          },
          "metadata": {},
          "execution_count": 19
        }
      ]
    },
    {
      "cell_type": "code",
      "metadata": {
        "colab": {
          "base_uri": "https://localhost:8080/"
        },
        "id": "vSTD4y2RkH68",
        "outputId": "52b8f882-5f6f-431d-b6b1-53017f6e0d3c"
      },
      "source": [
        "print(classification_report(y_test, y_pred))"
      ],
      "execution_count": null,
      "outputs": [
        {
          "output_type": "stream",
          "name": "stdout",
          "text": [
            "              precision    recall  f1-score   support\n",
            "\n",
            "           1       0.87      1.00      0.93        54\n",
            "           2       1.00      0.11      0.20         9\n",
            "\n",
            "    accuracy                           0.87        63\n",
            "   macro avg       0.94      0.56      0.57        63\n",
            "weighted avg       0.89      0.87      0.83        63\n",
            "\n"
          ]
        }
      ]
    },
    {
      "cell_type": "code",
      "metadata": {
        "colab": {
          "base_uri": "https://localhost:8080/"
        },
        "id": "_OyT0v5Ik4lH",
        "outputId": "95a1ab69-7c92-483d-b62a-595b642afa45"
      },
      "source": [
        "from sklearn.metrics import recall_score\n",
        "recall_score(y_test, y_pred, pos_label=2)"
      ],
      "execution_count": null,
      "outputs": [
        {
          "output_type": "execute_result",
          "data": {
            "text/plain": [
              "0.1111111111111111"
            ]
          },
          "metadata": {},
          "execution_count": 21
        }
      ]
    },
    {
      "cell_type": "code",
      "metadata": {
        "id": "xyKYn7Oone8Q"
      },
      "source": [
        "# Change 1 to 0, 2 to 1 in target column\n",
        "df['LABEL'] = df['LABEL'].replace(1, 0)\n",
        "df['LABEL'] = df['LABEL'].replace(2, 1)\n",
        "\n",
        "# Reassign y to new df['LABEL']\n",
        "y = df['LABEL']"
      ],
      "execution_count": null,
      "outputs": []
    },
    {
      "cell_type": "code",
      "metadata": {
        "colab": {
          "base_uri": "https://localhost:8080/"
        },
        "id": "PVcp3SnZop6p",
        "outputId": "c24a6bac-653f-4c86-a5ce-9f4096566f28"
      },
      "source": [
        "y.value_counts()"
      ],
      "execution_count": null,
      "outputs": [
        {
          "output_type": "execute_result",
          "data": {
            "text/plain": [
              "0    213\n",
              "1     37\n",
              "Name: LABEL, dtype: int64"
            ]
          },
          "metadata": {},
          "execution_count": 23
        }
      ]
    },
    {
      "cell_type": "code",
      "metadata": {
        "id": "Sa9ucHkt5p7m"
      },
      "source": [
        "# split data - stratify y to ensure same percentage of exoplanets\n",
        "X_train, X_test, y_train, y_test = train_test_split(X, y, stratify=y)"
      ],
      "execution_count": null,
      "outputs": []
    },
    {
      "cell_type": "code",
      "metadata": {
        "colab": {
          "base_uri": "https://localhost:8080/"
        },
        "id": "RKJ850u_5sqq",
        "outputId": "4faa0e8b-18ae-4d41-a708-3cfadd84e471"
      },
      "source": [
        "y.value_counts()"
      ],
      "execution_count": null,
      "outputs": [
        {
          "output_type": "execute_result",
          "data": {
            "text/plain": [
              "0    213\n",
              "1     37\n",
              "Name: LABEL, dtype: int64"
            ]
          },
          "metadata": {},
          "execution_count": 59
        }
      ]
    },
    {
      "cell_type": "code",
      "metadata": {
        "colab": {
          "base_uri": "https://localhost:8080/"
        },
        "id": "FRTJF6r15xg4",
        "outputId": "b8b8e23c-1d0c-4298-d126-9cbb63a4dc46"
      },
      "source": [
        "# weight y values so they have equal weights\n",
        "# 37 * 213/37 = 213 is the goal\n",
        "weight = y[y==0].count()/y[y==1].count()\n",
        "weight"
      ],
      "execution_count": null,
      "outputs": [
        {
          "output_type": "execute_result",
          "data": {
            "text/plain": [
              "5.756756756756757"
            ]
          },
          "metadata": {},
          "execution_count": 26
        }
      ]
    },
    {
      "cell_type": "code",
      "metadata": {
        "colab": {
          "base_uri": "https://localhost:8080/"
        },
        "id": "SR7egvwEorrZ",
        "outputId": "d84119be-f98f-4d6f-f7c5-4461f5fb3c43"
      },
      "source": [
        "# Build XGBoost model - with defaul accuracy score\n",
        "model = XGBClassifier(scale_pos_weight=weight, random_state=2)\n",
        "model.fit(X_train, y_train)\n",
        "y_pred = model.predict(X_test)\n",
        "print(recall_score(y_test, y_pred))\n",
        "print(confusion_matrix(y_test, y_pred))\n",
        "print(classification_report(y_test, y_pred))"
      ],
      "execution_count": null,
      "outputs": [
        {
          "output_type": "stream",
          "name": "stdout",
          "text": [
            "0.4444444444444444\n",
            "[[49  5]\n",
            " [ 5  4]]\n",
            "              precision    recall  f1-score   support\n",
            "\n",
            "           0       0.91      0.91      0.91        54\n",
            "           1       0.44      0.44      0.44         9\n",
            "\n",
            "    accuracy                           0.84        63\n",
            "   macro avg       0.68      0.68      0.68        63\n",
            "weighted avg       0.84      0.84      0.84        63\n",
            "\n"
          ]
        }
      ]
    },
    {
      "cell_type": "code",
      "metadata": {
        "id": "f-mSEiTypNa2"
      },
      "source": [
        "from sklearn.model_selection import GridSearchCV, StratifiedKFold, cross_val_score\n",
        "kfold = StratifiedKFold(n_splits=2, shuffle=True, random_state=2)\n",
        "\n",
        "def grid_search(params, model=XGBClassifier(scale_pos_weight=weight,\n",
        "                                            random_state=2)):\n",
        "  grid = GridSearchCV(model, params, cv=kfold, scoring='recall')\n",
        "  grid.fit(X, y)\n",
        "  print('Best params:', grid.best_params_)\n",
        "  print('Best score:', grid.best_score_)"
      ],
      "execution_count": null,
      "outputs": []
    },
    {
      "cell_type": "code",
      "metadata": {
        "colab": {
          "base_uri": "https://localhost:8080/"
        },
        "id": "vpi45cWvtawD",
        "outputId": "a5c5c085-0e73-4477-e935-6ac51e04c4e1"
      },
      "source": [
        "cross_val_score(XGBClassifier(scale_pos_weight=weight, random_state=2),\n",
        "                X, y, cv=kfold, scoring='recall')"
      ],
      "execution_count": null,
      "outputs": [
        {
          "output_type": "execute_result",
          "data": {
            "text/plain": [
              "array([0.05263158, 0.5       ])"
            ]
          },
          "metadata": {},
          "execution_count": 29
        }
      ]
    },
    {
      "cell_type": "code",
      "metadata": {
        "colab": {
          "base_uri": "https://localhost:8080/"
        },
        "id": "scXanoRistN6",
        "outputId": "d1f2f53a-76e2-4144-eed4-a411cbdf2b17"
      },
      "source": [
        "grid_search({'max_depth':[2, 4, 6, 8, 10]})"
      ],
      "execution_count": null,
      "outputs": [
        {
          "output_type": "stream",
          "name": "stdout",
          "text": [
            "Best params: {'max_depth': 4}\n",
            "Best score: 0.32894736842105265\n"
          ]
        }
      ]
    },
    {
      "cell_type": "code",
      "metadata": {
        "colab": {
          "base_uri": "https://localhost:8080/"
        },
        "id": "wJpif1Wjs-OB",
        "outputId": "cfef7b01-0f3c-4eca-9740-69154827b330"
      },
      "source": [
        "grid_search({'max_depth':[1, 2, 3, 4, 5],\n",
        "             'n_estimators':[50, 200]})"
      ],
      "execution_count": null,
      "outputs": [
        {
          "output_type": "stream",
          "name": "stdout",
          "text": [
            "Best params: {'max_depth': 2, 'n_estimators': 50}\n",
            "Best score: 0.35672514619883045\n"
          ]
        }
      ]
    },
    {
      "cell_type": "code",
      "metadata": {
        "colab": {
          "base_uri": "https://localhost:8080/"
        },
        "id": "mZHWqYWNtsJ5",
        "outputId": "ee1c67ed-f766-47e3-b7f5-76dafa79ba35"
      },
      "source": [
        "grid_search({'max_depth':[1, 2, 4],\n",
        "             'n_estimators':[40, 60, 75]})"
      ],
      "execution_count": null,
      "outputs": [
        {
          "output_type": "stream",
          "name": "stdout",
          "text": [
            "Best params: {'max_depth': 2, 'n_estimators': 40}\n",
            "Best score: 0.38450292397660824\n"
          ]
        }
      ]
    },
    {
      "cell_type": "code",
      "metadata": {
        "colab": {
          "base_uri": "https://localhost:8080/"
        },
        "id": "SvBzWKJrwROh",
        "outputId": "662f8204-e1f5-4766-f41b-4d91aa6297c1"
      },
      "source": [
        "grid_search({'max_depth':[2],\n",
        "             'n_estimators':[40],\n",
        "             'colsample_bytree':[0.2, 0.35, 0.5, 0.65, 0.8]})"
      ],
      "execution_count": null,
      "outputs": [
        {
          "output_type": "stream",
          "name": "stdout",
          "text": [
            "Best params: {'colsample_bytree': 0.8, 'max_depth': 2, 'n_estimators': 40}\n",
            "Best score: 0.35526315789473684\n"
          ]
        }
      ]
    },
    {
      "cell_type": "code",
      "metadata": {
        "colab": {
          "base_uri": "https://localhost:8080/"
        },
        "id": "7mzc4jxxwvOw",
        "outputId": "af757aba-cccc-4af2-9583-17716601f861"
      },
      "source": [
        "grid_search({'max_depth':[2],\n",
        "             'n_estimators':[40],\n",
        "             'colsample_bynode':[0.2, 0.35, 0.5, 0.65, 0.8]})"
      ],
      "execution_count": null,
      "outputs": [
        {
          "output_type": "stream",
          "name": "stdout",
          "text": [
            "Best params: {'colsample_bynode': 0.65, 'max_depth': 2, 'n_estimators': 40}\n",
            "Best score: 0.35672514619883045\n"
          ]
        }
      ]
    },
    {
      "cell_type": "code",
      "metadata": {
        "colab": {
          "base_uri": "https://localhost:8080/"
        },
        "id": "HE6h0uigwyxV",
        "outputId": "8852e9dd-c87f-4a9c-a0d4-9cd465856164"
      },
      "source": [
        "grid_search({'max_depth':[2],\n",
        "             'n_estimators':[40],\n",
        "             'colsample_bylevel':[0.2, 0.35, 0.5, 0.65, 0.8]})"
      ],
      "execution_count": null,
      "outputs": [
        {
          "output_type": "stream",
          "name": "stdout",
          "text": [
            "Best params: {'colsample_bylevel': 0.65, 'max_depth': 2, 'n_estimators': 40}\n",
            "Best score: 0.35672514619883045\n"
          ]
        }
      ]
    },
    {
      "cell_type": "code",
      "metadata": {
        "colab": {
          "base_uri": "https://localhost:8080/"
        },
        "id": "yksBO2OVw5kh",
        "outputId": "2ccf95d6-f24c-487a-ce78-987b3d21fd0d"
      },
      "source": [
        "grid_search({'max_depth':[2],\n",
        "             'n_estimators':[40],\n",
        "             'colsample_bylevel':[0.6, 0.8],\n",
        "             'colsample_bynode':[0.6, 0.8],\n",
        "             'colsample_bytree':[0.6, 0.8]})"
      ],
      "execution_count": null,
      "outputs": [
        {
          "output_type": "stream",
          "name": "stdout",
          "text": [
            "Best params: {'colsample_bylevel': 0.6, 'colsample_bynode': 0.8, 'colsample_bytree': 0.8, 'max_depth': 2, 'n_estimators': 40}\n",
            "Best score: 0.32894736842105265\n"
          ]
        }
      ]
    },
    {
      "cell_type": "code",
      "metadata": {
        "colab": {
          "base_uri": "https://localhost:8080/"
        },
        "id": "jh-Q5iK5xOGQ",
        "outputId": "7be82120-c4a9-4362-937e-25bfbc1ca3ba"
      },
      "source": [
        "grid_search({'max_depth':[2],\n",
        "             'n_estimators':[40],\n",
        "             'colsample_bylevel':[0.75, 1],\n",
        "             'colsample_bynode':[0.75, 1],\n",
        "             'colsample_bytree':[0.75, 1]})"
      ],
      "execution_count": null,
      "outputs": [
        {
          "output_type": "stream",
          "name": "stdout",
          "text": [
            "Best params: {'colsample_bylevel': 1, 'colsample_bynode': 1, 'colsample_bytree': 1, 'max_depth': 2, 'n_estimators': 40}\n",
            "Best score: 0.38450292397660824\n"
          ]
        }
      ]
    },
    {
      "cell_type": "code",
      "metadata": {
        "colab": {
          "base_uri": "https://localhost:8080/"
        },
        "id": "_xZj2DKFvnP1",
        "outputId": "61eeb8c0-ce0a-49c1-a067-701675ccff5d"
      },
      "source": [
        "grid_search({'max_depth':[2],\n",
        "             'n_estimators':[40],\n",
        "             'colsample_bylevel':[1],\n",
        "             'colsample_bynode':[1],\n",
        "             'colsample_bytree':[1],\n",
        "             'learning_rate':[0.001, 0.01, 0.1]})"
      ],
      "execution_count": null,
      "outputs": [
        {
          "output_type": "stream",
          "name": "stdout",
          "text": [
            "Best params: {'colsample_bylevel': 1, 'colsample_bynode': 1, 'colsample_bytree': 1, 'learning_rate': 0.001, 'max_depth': 2, 'n_estimators': 40}\n",
            "Best score: 0.5467836257309941\n"
          ]
        }
      ]
    },
    {
      "cell_type": "code",
      "metadata": {
        "colab": {
          "base_uri": "https://localhost:8080/"
        },
        "id": "i6BKcWuUGgpx",
        "outputId": "0fb197f2-1ba9-48c3-a513-457190a7752a"
      },
      "source": [
        "grid_search({'max_depth':[2],\n",
        "             'n_estimators':[40],\n",
        "             'colsample_bylevel':[0.85,],\n",
        "             'colsample_bynode':[0.85],\n",
        "             'colsample_bytree':[0.85],\n",
        "             'learning_rate':[0.001]})"
      ],
      "execution_count": null,
      "outputs": [
        {
          "output_type": "stream",
          "name": "stdout",
          "text": [
            "Best params: {'colsample_bylevel': 0.85, 'colsample_bynode': 0.85, 'colsample_bytree': 0.85, 'learning_rate': 0.001, 'max_depth': 2, 'n_estimators': 40}\n",
            "Best score: 0.5467836257309941\n"
          ]
        }
      ]
    },
    {
      "cell_type": "code",
      "metadata": {
        "colab": {
          "base_uri": "https://localhost:8080/"
        },
        "id": "FhatptGUx8pg",
        "outputId": "1fdd6cbc-1191-4c30-bf09-0826c6559df9"
      },
      "source": [
        "# Build XGBoost model - with accuracy score\n",
        "model = XGBClassifier(scale_pos_weight=weight,\n",
        "                      max_depth=2,\n",
        "                      n_estimators=40,\n",
        "                      colsample_bylevel=1,\n",
        "                      colsample_bynode=1,\n",
        "                      colsample_bytree=1,\n",
        "                      learning_rate=0.001,\n",
        "                      random_state=2)\n",
        "model.fit(X_train, y_train)\n",
        "y_pred = model.predict(X_test)\n",
        "print(recall_score(y_test, y_pred))\n",
        "print(confusion_matrix(y_test, y_pred))\n",
        "print(classification_report(y_test, y_pred))"
      ],
      "execution_count": null,
      "outputs": [
        {
          "output_type": "stream",
          "name": "stdout",
          "text": [
            "0.6666666666666666\n",
            "[[30 24]\n",
            " [ 3  6]]\n",
            "              precision    recall  f1-score   support\n",
            "\n",
            "           0       0.91      0.56      0.69        54\n",
            "           1       0.20      0.67      0.31         9\n",
            "\n",
            "    accuracy                           0.57        63\n",
            "   macro avg       0.55      0.61      0.50        63\n",
            "weighted avg       0.81      0.57      0.64        63\n",
            "\n"
          ]
        }
      ]
    },
    {
      "cell_type": "code",
      "metadata": {
        "id": "BywvQHxozPtt"
      },
      "source": [],
      "execution_count": null,
      "outputs": []
    }
  ]
}